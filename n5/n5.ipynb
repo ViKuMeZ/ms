{
  "nbformat": 4,
  "nbformat_minor": 0,
  "metadata": {
    "colab": {
      "provenance": []
    },
    "kernelspec": {
      "name": "python3",
      "display_name": "Python 3"
    },
    "language_info": {
      "name": "python"
    }
  },
  "cells": [
    {
      "cell_type": "code",
      "execution_count": 1,
      "metadata": {
        "id": "oFuOxyv_Sq3w"
      },
      "outputs": [],
      "source": [
        "import pandas as pd\n",
        "import re\n",
        "import nltk\n",
        "from nltk.corpus import stopwords\n",
        "from nltk.tokenize import word_tokenize\n",
        "from sklearn.feature_extraction.text import TfidfVectorizer\n",
        "from sklearn.cluster import KMeans\n",
        "from sklearn.metrics import adjusted_rand_score\n",
        "from sklearn.model_selection import train_test_split"
      ]
    },
    {
      "cell_type": "code",
      "source": [
        "def linear_regression(df: pd.DataFrame) -> list[float]:\n",
        "    vectorizer = TfidfVectorizer()\n",
        "    vectors = vectorizer.fit_transform(df['clean_text'])\n",
        "    kmeans = KMeans(n_clusters=5, random_state=42)\n",
        "    clusters = kmeans.fit_predict(vectors)\n",
        "    return clusters.tolist()\n",
        "\n",
        "def activation_func(x: list[float]) -> list[float]:\n",
        "    max_val = max(x) if max(x) != 0 else 1\n",
        "    return [round(i / max_val, 2) for i in x]\n",
        "\n",
        "def neuron(df: pd.DataFrame):\n",
        "    temp_result = linear_regression(df)\n",
        "    result = activation_func(temp_result)\n",
        "    return result"
      ],
      "metadata": {
        "id": "jc5z5l9xTwco"
      },
      "execution_count": 3,
      "outputs": []
    },
    {
      "cell_type": "code",
      "source": [
        "df = pd.read_csv('texts.csv')  # Укажите путь к файлу\n",
        "stop_words = set(stopwords.words('english'))"
      ],
      "metadata": {
        "id": "FFMA0oEbTy-a"
      },
      "execution_count": 16,
      "outputs": []
    },
    {
      "cell_type": "code",
      "source": [
        "def preprocess(text):\n",
        "    text = text.lower()\n",
        "    text = re.sub(r'[^\\w\\s]', '', text)\n",
        "    tokens = text.split()\n",
        "    filtered = [word for word in tokens if word not in stop_words]\n",
        "    return ' '.join(filtered)"
      ],
      "metadata": {
        "id": "ZfwRTjgHT2-n"
      },
      "execution_count": 9,
      "outputs": []
    },
    {
      "cell_type": "code",
      "source": [
        "df['clean_text'] = df['text'].apply(preprocess)"
      ],
      "metadata": {
        "id": "l1d5gMLYT6Z3"
      },
      "execution_count": 17,
      "outputs": []
    },
    {
      "cell_type": "code",
      "source": [
        "cluster_result = neuron(df)\n",
        "df['cluster'] = cluster_result"
      ],
      "metadata": {
        "id": "DCbPwZOhT9pj"
      },
      "execution_count": 18,
      "outputs": []
    },
    {
      "cell_type": "code",
      "source": [
        "df['label'] = df['category'].astype('category').cat.codes\n",
        "ari = adjusted_rand_score(df['label'], df['cluster'])\n",
        "print(f'Adjusted Rand Index: {ari:.3f}')"
      ],
      "metadata": {
        "colab": {
          "base_uri": "https://localhost:8080/"
        },
        "id": "hBXN4bXqUA8R",
        "outputId": "db56ee9f-f321-4136-8dab-9991b2e5245c"
      },
      "execution_count": 19,
      "outputs": [
        {
          "output_type": "stream",
          "name": "stdout",
          "text": [
            "Adjusted Rand Index: 0.025\n"
          ]
        },
        {
          "output_type": "stream",
          "name": "stderr",
          "text": [
            "/usr/local/lib/python3.11/dist-packages/sklearn/metrics/cluster/_supervised.py:59: UserWarning: Clustering metrics expects discrete values but received multiclass values for label, and continuous values for target\n",
            "  warnings.warn(msg, UserWarning)\n"
          ]
        }
      ]
    },
    {
      "cell_type": "code",
      "source": [
        "vectorizer = TfidfVectorizer()\n",
        "X = vectorizer.fit_transform(df['clean_text'])\n",
        "y = df['label']"
      ],
      "metadata": {
        "id": "IqDktBLyUDku"
      },
      "execution_count": 20,
      "outputs": []
    },
    {
      "cell_type": "code",
      "source": [
        "X_train, X_temp, y_train, y_temp = train_test_split(X, y, test_size=0.3, random_state=42)\n",
        "X_val, X_test, y_val, y_test = train_test_split(X_temp, y_temp, test_size=0.5, random_state=42)"
      ],
      "metadata": {
        "id": "omU3de-rUGoR"
      },
      "execution_count": 21,
      "outputs": []
    },
    {
      "cell_type": "code",
      "source": [
        "print(f'Обучающая выборка: {X_train.shape[0]}')\n",
        "print(f'Валидационная выборка: {X_val.shape[0]}')\n",
        "print(f'Тестовая выборка: {X_test.shape[0]}')"
      ],
      "metadata": {
        "colab": {
          "base_uri": "https://localhost:8080/"
        },
        "id": "CmHrqKSEUJFO",
        "outputId": "6252f01b-6ad9-4247-9eff-42daea4d73cb"
      },
      "execution_count": 22,
      "outputs": [
        {
          "output_type": "stream",
          "name": "stdout",
          "text": [
            "Обучающая выборка: 4893\n",
            "Валидационная выборка: 1048\n",
            "Тестовая выборка: 1049\n"
          ]
        }
      ]
    }
  ]
}
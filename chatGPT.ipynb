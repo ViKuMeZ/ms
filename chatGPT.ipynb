{
  "nbformat": 4,
  "nbformat_minor": 0,
  "metadata": {
    "colab": {
      "provenance": []
    },
    "kernelspec": {
      "name": "python3",
      "display_name": "Python 3"
    },
    "language_info": {
      "name": "python"
    }
  },
  "cells": [
    {
      "cell_type": "code",
      "execution_count": 61,
      "metadata": {
        "id": "w1Xw0ENfjFAA"
      },
      "outputs": [],
      "source": [
        "import numpy as np\n",
        "from tqdm import tqdm"
      ]
    },
    {
      "cell_type": "code",
      "source": [
        "class RevolutionaryTextGenerator:\n",
        "    def __init__(self):\n",
        "        self.vocab = list(\"абвгдеёжзийклмнопрстуфхцчшщъыьэюяАБВГДЕЁЖЗИЙКЛМНОПРСТУФХЦЧШЩЪЫЬЭЮЯ .,!?-\\n\")\n",
        "        self.char_to_idx = {ch: i for i, ch in enumerate(self.vocab)}\n",
        "        self.idx_to_char = {i: ch for i, ch in enumerate(self.vocab)}\n",
        "\n",
        "        self.hidden_size = 48\n",
        "        self.vocab_size = len(self.vocab)\n",
        "\n",
        "        self.Wxh = np.random.randn(self.hidden_size, self.vocab_size) * 0.01\n",
        "        self.Whh = np.random.randn(self.hidden_size, self.hidden_size) * 0.01\n",
        "        self.Why = np.random.randn(self.vocab_size, self.hidden_size) * 0.01\n",
        "        self.bh = np.zeros(self.hidden_size)\n",
        "        self.by = np.zeros(self.vocab_size)\n",
        "\n",
        "    def forward(self, inputs, h_prev):\n",
        "        \"\"\"Прямой проход революционной мысли\"\"\"\n",
        "        xs, hs, ys = {}, {}, {}\n",
        "        hs[-1] = np.copy(h_prev)\n",
        "\n",
        "        for t in range(len(inputs)):\n",
        "            if inputs[t] not in self.char_to_idx:\n",
        "                continue\n",
        "\n",
        "            xs[t] = np.zeros(self.vocab_size)\n",
        "            xs[t][self.char_to_idx[inputs[t]]] = 1\n",
        "\n",
        "            hs[t] = np.tanh(np.dot(self.Wxh, xs[t]) + np.dot(self.Whh, hs[t-1]) + self.bh)\n",
        "            ys[t] = np.dot(self.Why, hs[t]) + self.by\n",
        "            ys[t] = np.exp(ys[t] - np.max(ys[t]))\n",
        "            ys[t] /= ys[t].sum()\n",
        "\n",
        "        return xs, hs, ys\n",
        "\n",
        "    def backward(self, inputs, targets, xs, hs, ys):\n",
        "        \"\"\"Обратное распространение революционных идей\"\"\"\n",
        "        dWxh, dWhh, dWhy = np.zeros_like(self.Wxh), np.zeros_like(self.Whh), np.zeros_like(self.Why)\n",
        "        dbh, dby = np.zeros_like(self.bh), np.zeros_like(self.by)\n",
        "        dh_next = np.zeros(self.hidden_size)\n",
        "\n",
        "        for t in reversed(range(len(inputs))):\n",
        "            if targets[t] not in self.char_to_idx:\n",
        "                continue\n",
        "\n",
        "            dy = np.copy(ys[t])\n",
        "            dy[self.char_to_idx[targets[t]]] -= 1\n",
        "\n",
        "            dWhy += np.outer(dy, hs[t])\n",
        "            dby += dy\n",
        "\n",
        "            dh = np.dot(self.Why.T, dy) + dh_next\n",
        "            dh_raw = (1 - hs[t] ** 2) * dh\n",
        "\n",
        "            dbh += dh_raw\n",
        "            dWxh += np.outer(dh_raw, xs[t])\n",
        "            dWhh += np.outer(dh_raw, hs[t-1])\n",
        "\n",
        "            dh_next = np.dot(self.Whh.T, dh_raw)\n",
        "\n",
        "        return dWxh, dWhh, dWhy, dbh, dby\n",
        "\n",
        "    def train(self, text, seq_length=25, epochs=20, lr=0.005):\n",
        "        \"\"\"Тренировка революционного сознания\"\"\"\n",
        "        print(\"Начало идеологической подготовки...\")\n",
        "\n",
        "        for epoch in range(epochs):\n",
        "            h_prev = np.zeros(self.hidden_size)\n",
        "            ptr = 0\n",
        "            smooth_loss = -np.log(1.0/self.vocab_size) * seq_length\n",
        "\n",
        "            with tqdm(total=len(text)//seq_length, desc=f\"Эпоха {epoch}\") as pbar:\n",
        "                while ptr < len(text) - seq_length - 1:\n",
        "                    inputs = text[ptr:ptr+seq_length]\n",
        "                    targets = text[ptr+1:ptr+seq_length+1]\n",
        "\n",
        "                    xs, hs, ys = self.forward(inputs, h_prev)\n",
        "                    dWxh, dWhh, dWhy, dbh, dby = self.backward(inputs, targets, xs, hs, ys)\n",
        "\n",
        "                    for param, dparam in zip([self.Wxh, self.Whh, self.Why, self.bh, self.by],\n",
        "                                           [dWxh, dWhh, dWhy, dbh, dby]):\n",
        "                        param -= lr * dparam\n",
        "\n",
        "                    for t in range(len(inputs)):\n",
        "                        if targets[t] in self.char_to_idx:\n",
        "                          smooth_loss = smooth_loss * 0.999 + (-np.log(ys[t][self.char_to_idx[targets[t]]])) * 0.001\n",
        "\n",
        "                    h_prev = hs[len(inputs)-1]\n",
        "                    ptr += seq_length\n",
        "                    pbar.update(1)\n",
        "\n",
        "            if epoch % 2 == 0:\n",
        "                self.revolutionary_generation(text[:15])\n",
        "\n",
        "    def revolutionary_generation(self, seed, length=150, temperature=0.7):\n",
        "        \"\"\"Генерация революционных лозунгов\"\"\"\n",
        "        h = np.zeros(self.hidden_size)\n",
        "        indices = [self.char_to_idx[ch] for ch in seed if ch in self.char_to_idx]\n",
        "\n",
        "        for idx in indices:\n",
        "            x = np.zeros(self.vocab_size)\n",
        "            x[idx] = 1\n",
        "            h = np.tanh(np.dot(self.Wxh, x) + np.dot(self.Whh, h) + self.bh)\n",
        "\n",
        "        for _ in range(length):\n",
        "            y = np.dot(self.Why, h) + self.by\n",
        "            y = np.exp(y / temperature)\n",
        "            p = y / y.sum()\n",
        "\n",
        "            idx = np.random.choice(range(self.vocab_size), p=p)\n",
        "            indices.append(idx)\n",
        "\n",
        "            x = np.zeros(self.vocab_size)\n",
        "            x[idx] = 1\n",
        "            h = np.tanh(np.dot(self.Wxh, x) + np.dot(self.Whh, h) + self.bh)\n",
        "\n",
        "        result = seed + ''.join([self.idx_to_char[idx] for idx in indices[len(seed):]])\n",
        "\n",
        "        print(\"\\n\" + \"=\"*60)\n",
        "        print(\"Революционное воззвание:\")\n",
        "        print(result)\n",
        "        print(\"=\"*60)"
      ],
      "metadata": {
        "id": "SbCDLEDdlhWY"
      },
      "execution_count": 73,
      "outputs": []
    },
    {
      "cell_type": "code",
      "source": [
        "default_text = \"\"\"\n",
        "Товарищи красноармейцы! Капиталисты Англии, Америки, Франции ведут войну против России.\n",
        "Мы должны защитить завоевания революции! Все на борьбу с интервентами!\n",
        "Пролетарии всех стран, соединяйтесь! Власть - Советам, землю - крестьянам!\n",
        "\"\"\" * 30"
      ],
      "metadata": {
        "id": "tWiDJ9dnzz3Q"
      },
      "execution_count": 74,
      "outputs": []
    },
    {
      "cell_type": "code",
      "source": [
        "# Запуск идеологической машины\n",
        "generator = RevolutionaryTextGenerator()\n",
        "generator.train(default_text)"
      ],
      "metadata": {
        "colab": {
          "base_uri": "https://localhost:8080/"
        },
        "id": "8cWfv3KRjWVi",
        "outputId": "e3983e6f-6c81-4776-b826-e8ccdd123db5"
      },
      "execution_count": 75,
      "outputs": [
        {
          "output_type": "stream",
          "name": "stdout",
          "text": [
            "Начало идеологической подготовки...\n"
          ]
        },
        {
          "output_type": "stream",
          "name": "stderr",
          "text": [
            "Эпоха 0: 100%|█████████▉| 281/282 [00:00<00:00, 477.79it/s]\n"
          ]
        },
        {
          "output_type": "stream",
          "name": "stdout",
          "text": [
            "\n",
            "============================================================\n",
            "Революционное воззвание:\n",
            "\n",
            "Товарищи краснтт о еи иосии  еиу тт н виеатстсн лртнтои вПтвыар ьеь  н д   лиенте  етрсин ес те  моа р  ар  с!вмзарутлттит   ссвКио\n",
            "  исмоТяьеяцвалс еме т!щинтр  ощ\n",
            "============================================================\n"
          ]
        },
        {
          "output_type": "stream",
          "name": "stderr",
          "text": [
            "Эпоха 1: 100%|█████████▉| 281/282 [00:00<00:00, 445.78it/s]\n",
            "Эпоха 2: 100%|█████████▉| 281/282 [00:00<00:00, 462.67it/s]\n"
          ]
        },
        {
          "output_type": "stream",
          "name": "stdout",
          "text": [
            "\n",
            "============================================================\n",
            "Революционное воззвание:\n",
            "\n",
            "Товарищи краснбьт\n",
            "!рат атаеолииеыт \n",
            " сте! сай нлтн нлииееци ,  сл  ет, воисвз васая!ир\n",
            "роо, солиит верхе ьсаарм та зи  цявмео веА аапверя нмтивилнт  а - веа бьи  да\n",
            "============================================================\n"
          ]
        },
        {
          "output_type": "stream",
          "name": "stderr",
          "text": [
            "Эпоха 3: 100%|█████████▉| 281/282 [00:00<00:00, 463.96it/s]\n",
            "Эпоха 4: 100%|█████████▉| 281/282 [00:00<00:00, 492.72it/s]\n"
          ]
        },
        {
          "output_type": "stream",
          "name": "stdout",
          "text": [
            "\n",
            "============================================================\n",
            "Революционное воззвание:\n",
            "\n",
            "Товарищи красн волию лас, \n",
            " поелитавьа сапии ы кранин сара ин веелйтитиы вонтвень Асевоенцьт соа и васии з сраривосми зарости ! асонии! ВВрелнннтас, соеду иоаворову\n",
            "============================================================\n"
          ]
        },
        {
          "output_type": "stream",
          "name": "stderr",
          "text": [
            "Эпоха 5: 100%|█████████▉| 281/282 [00:00<00:00, 448.91it/s]\n",
            "Эпоха 6: 100%|█████████▉| 281/282 [00:00<00:00, 478.66it/s]\n"
          ]
        },
        {
          "output_type": "stream",
          "name": "stdout",
          "text": [
            "\n",
            "============================================================\n",
            "Революционное воззвание:\n",
            "\n",
            "Товарищи красни - говати зарЭежь - Фовета и корентароратиту соейни й вагу васн сты к ваву варолестесьи! Фоертютц - вевеуу варин крестесь Кевасии Врость - вевати - з\n",
            "============================================================\n"
          ]
        },
        {
          "output_type": "stream",
          "name": "stderr",
          "text": [
            "Эпоха 7: 100%|█████████▉| 281/282 [00:00<00:00, 462.89it/s]\n",
            "Эпоха 8: 100%|█████████▉| 281/282 [00:00<00:00, 487.17it/s]\n"
          ]
        },
        {
          "output_type": "stream",
          "name": "stdout",
          "text": [
            "\n",
            "============================================================\n",
            "Революционное воззвание:\n",
            "\n",
            "Товарищи красноароеявари! земетария вемст пренцейцы Камьийароельнции Рсеицейры защитить защитить заролить заволитиГ! Кеветарик всех стварищи зерот , вовеца - соесть\n",
            "============================================================\n"
          ]
        },
        {
          "output_type": "stream",
          "name": "stderr",
          "text": [
            "Эпоха 9: 100%|█████████▉| 281/282 [00:00<00:00, 343.97it/s]\n",
            "Эпоха 10: 100%|█████████▉| 281/282 [00:00<00:00, 283.15it/s]\n"
          ]
        },
        {
          "output_type": "stream",
          "name": "stdout",
          "text": [
            "\n",
            "============================================================\n",
            "Революционное воззвание:\n",
            "\n",
            "Товарищи красни на дольн, с красть ны золду  роену срьТи\n",
            " Влолии, завитить зоеролитамии! клелиии! Все нтани\n",
            "\n",
            "ры нолжноедоснии! Франии всех стыяцы\n",
            "красу Прмью к веер\n",
            "============================================================\n"
          ]
        },
        {
          "output_type": "stream",
          "name": "stderr",
          "text": [
            "Эпоха 11: 100%|█████████▉| 281/282 [00:00<00:00, 288.85it/s]\n",
            "Эпоха 12: 100%|█████████▉| 281/282 [00:00<00:00, 325.75it/s]\n"
          ]
        },
        {
          "output_type": "stream",
          "name": "stdout",
          "text": [
            "\n",
            "============================================================\n",
            "Революционное воззвание:\n",
            "\n",
            "Товарищи красноармейцы! Кеволины защитить замнтариняраролюц, Вранть напитарищи, воертевьезастотрв б рапи з геволино замот ройнцяи! крестия- к волитить завоевамии! К\n",
            "============================================================\n"
          ]
        },
        {
          "output_type": "stream",
          "name": "stderr",
          "text": [
            "Эпоха 13: 100%|█████████▉| 281/282 [00:00<00:00, 454.99it/s]\n",
            "Эпоха 14: 100%|█████████▉| 281/282 [00:00<00:00, 457.25it/s]\n"
          ]
        },
        {
          "output_type": "stream",
          "name": "stdout",
          "text": [
            "\n",
            "============================================================\n",
            "Революционное воззвание:\n",
            "\n",
            "Товарищи красноармейцы! Капиталисты Англии, Америки, Роединяйтесь! Власть - Советам, землю - крестьянам!\n",
            "\n",
            "Товарищи красноармейцы! Капиталисты Англии, Америки, Франц\n",
            "============================================================\n"
          ]
        },
        {
          "output_type": "stream",
          "name": "stderr",
          "text": [
            "Эпоха 15: 100%|█████████▉| 281/282 [00:00<00:00, 458.87it/s]\n",
            "Эпоха 16: 100%|█████████▉| 281/282 [00:00<00:00, 518.70it/s]\n"
          ]
        },
        {
          "output_type": "stream",
          "name": "stdout",
          "text": [
            "\n",
            "============================================================\n",
            "Революционное воззвание:\n",
            "\n",
            "Товарищи красноармейцы! Капиталисты Англии, Америки, Франции ведут войну против России.\n",
            "Мы должны защитить завоевания революции! Все на борьбу с интервентами!\n",
            "Проле\n",
            "============================================================\n"
          ]
        },
        {
          "output_type": "stream",
          "name": "stderr",
          "text": [
            "Эпоха 17: 100%|█████████▉| 281/282 [00:00<00:00, 474.14it/s]\n",
            "Эпоха 18: 100%|█████████▉| 281/282 [00:00<00:00, 514.74it/s]\n"
          ]
        },
        {
          "output_type": "stream",
          "name": "stdout",
          "text": [
            "\n",
            "============================================================\n",
            "Революционное воззвание:\n",
            "\n",
            "Товарищи красноармейцы! Капиталисты Англии, Америки, Франции ведут войну против России.\n",
            "Мы должны защитить завоевания революции! Все на борьну с Советам, землю - кр\n",
            "============================================================\n"
          ]
        },
        {
          "output_type": "stream",
          "name": "stderr",
          "text": [
            "Эпоха 19: 100%|█████████▉| 281/282 [00:00<00:00, 469.44it/s]\n"
          ]
        }
      ]
    },
    {
      "cell_type": "code",
      "source": [
        "# Финальное революционное обращение\n",
        "print(\"\\nФинальное воззвание революционной нейросети:\")\n",
        "generator.revolutionary_generation(\"Товарищи! \", length=200)"
      ],
      "metadata": {
        "colab": {
          "base_uri": "https://localhost:8080/"
        },
        "id": "B0t5fgDfo1aB",
        "outputId": "7eef9c84-5374-4195-c195-e68f7033f8d6"
      },
      "execution_count": 76,
      "outputs": [
        {
          "output_type": "stream",
          "name": "stdout",
          "text": [
            "\n",
            "Финальное воззвание революционной нейросети:\n",
            "\n",
            "============================================================\n",
            "Революционное воззвание:\n",
            "Товарищи! Моарищи - Сореворьбн с б -лентеан, защитить завоевания революции! Все на борьбу с интервентами!\n",
            "Пролетарии всех стран, соединяйтесь! Власть - Советам, землю - крестьянам!\n",
            "\n",
            "Товарищи красноармейцы! Капи\n",
            "============================================================\n"
          ]
        }
      ]
    }
  ]
}
{
  "nbformat": 4,
  "nbformat_minor": 0,
  "metadata": {
    "colab": {
      "provenance": []
    },
    "kernelspec": {
      "name": "python3",
      "display_name": "Python 3"
    },
    "language_info": {
      "name": "python"
    }
  },
  "cells": [
    {
      "cell_type": "code",
      "execution_count": 12,
      "metadata": {
        "id": "kFCYubsiUP6l"
      },
      "outputs": [],
      "source": [
        "import numpy as np\n",
        "import pandas as pd"
      ]
    },
    {
      "cell_type": "code",
      "source": [
        "class SimpleNeuralNetwork:\n",
        "    def __init__(self, input_size, hidden_layers, output_size, learning_rate=0.1):\n",
        "        self.learning_rate = learning_rate\n",
        "        self.layers = [input_size] + hidden_layers + [output_size]\n",
        "\n",
        "        self.weights = [np.random.randn(self.layers[i], self.layers[i+1]) for i in range(len(self.layers) - 1)]\n",
        "        self.biases = [np.random.randn(n) for n in self.layers[1:]]\n",
        "\n",
        "    def activation(self, x):\n",
        "        return 1 / (1 + np.exp(-x))\n",
        "\n",
        "    def activation_derivative(self, x):\n",
        "        return x * (1 - x)\n",
        "\n",
        "    def forward(self, x):\n",
        "        self.activations = [x]\n",
        "        self.z_values = []\n",
        "\n",
        "        for w, b in zip(self.weights, self.biases):\n",
        "            z = np.dot(self.activations[-1], w) + b\n",
        "            self.z_values.append(z)\n",
        "            self.activations.append(self.activation(z))\n",
        "\n",
        "        return self.activations[-1]\n",
        "\n",
        "    def backward(self, y_true):\n",
        "        errors = [y_true - self.activations[-1]]\n",
        "        deltas = [errors[-1] * self.activation_derivative(self.activations[-1])]\n",
        "\n",
        "        for i in range(len(self.weights) - 1, 0, -1):\n",
        "            error = deltas[-1] @ self.weights[i].T\n",
        "            delta = error * self.activation_derivative(self.activations[i])\n",
        "            deltas.append(delta)\n",
        "\n",
        "        deltas.reverse()\n",
        "\n",
        "        for i in range(len(self.weights)):\n",
        "            self.weights[i] += self.learning_rate * np.outer(self.activations[i], deltas[i])\n",
        "            self.biases[i] += self.learning_rate * deltas[i]\n",
        "\n",
        "    def train(self, df, target_column, epochs=1000, print_every=500):\n",
        "        X = df.drop(columns=[target_column]).values\n",
        "        y = df[[target_column]].values\n",
        "\n",
        "        for epoch in range(1, epochs + 1):\n",
        "            total_loss = 0\n",
        "            for x_sample, y_sample in zip(X, y):\n",
        "                output = self.forward(x_sample)\n",
        "                loss = np.mean((y_sample - output) ** 2)  # MSE\n",
        "                total_loss += loss\n",
        "                self.backward(y_sample)\n",
        "\n",
        "            if epoch % print_every == 0:\n",
        "                avg_loss = total_loss / len(X)\n",
        "                print(f\"Эпоха {epoch}, Ошибка: {avg_loss:.6f}\")\n",
        "\n",
        "    def predict(self, df):\n",
        "        X = df.values\n",
        "        return np.array([self.forward(x) for x in X])"
      ],
      "metadata": {
        "id": "KcE5_2inVjsP"
      },
      "execution_count": 15,
      "outputs": []
    },
    {
      "cell_type": "code",
      "source": [
        "data = {\n",
        "    'feature1': [0.5, 0.2, 0.9, 0.3],\n",
        "    'feature2': [0.8, 0.4, 0.1, 0.7],\n",
        "    'target': [1, 0, 1, 0]\n",
        "}\n",
        "df = pd.DataFrame(data)\n",
        "\n",
        "network = SimpleNeuralNetwork(input_size=2, hidden_layers=[4, 3], output_size=1)\n",
        "network.train(df, target_column='target', epochs=5000, print_every=500)\n",
        "\n",
        "predictions = network.predict(df.drop(columns=['target']))\n",
        "print(\"Предсказания:\")\n",
        "print(predictions)"
      ],
      "metadata": {
        "colab": {
          "base_uri": "https://localhost:8080/"
        },
        "id": "1P3VV1m6Vn6A",
        "outputId": "9c202281-622e-42b6-cf71-6004c9bb6182"
      },
      "execution_count": 16,
      "outputs": [
        {
          "output_type": "stream",
          "name": "stdout",
          "text": [
            "Эпоха 500, Ошибка: 0.246025\n",
            "Эпоха 1000, Ошибка: 0.213334\n",
            "Эпоха 1500, Ошибка: 0.110766\n",
            "Эпоха 2000, Ошибка: 0.035091\n",
            "Эпоха 2500, Ошибка: 0.014742\n",
            "Эпоха 3000, Ошибка: 0.007989\n",
            "Эпоха 3500, Ошибка: 0.005088\n",
            "Эпоха 4000, Ошибка: 0.003589\n",
            "Эпоха 4500, Ошибка: 0.002709\n",
            "Эпоха 5000, Ошибка: 0.002144\n",
            "Предсказания:\n",
            "[[0.9360804 ]\n",
            " [0.00843706]\n",
            " [0.99427938]\n",
            " [0.06567419]]\n"
          ]
        }
      ]
    }
  ]
}
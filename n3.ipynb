{
  "nbformat": 4,
  "nbformat_minor": 0,
  "metadata": {
    "colab": {
      "provenance": []
    },
    "kernelspec": {
      "name": "python3",
      "display_name": "Python 3"
    },
    "language_info": {
      "name": "python"
    }
  },
  "cells": [
    {
      "cell_type": "code",
      "execution_count": 9,
      "metadata": {
        "id": "kFCYubsiUP6l"
      },
      "outputs": [],
      "source": [
        "import numpy as np\n",
        "import pandas as pd"
      ]
    },
    {
      "cell_type": "code",
      "source": [
        "class SimpleNeuralNetwork:\n",
        "    def __init__(self, input_size, hidden_layers, output_size, learning_rate=0.1):\n",
        "        self.learning_rate = learning_rate\n",
        "        self.layers = [input_size] + hidden_layers + [output_size]\n",
        "\n",
        "        self.weights = [np.random.randn(self.layers[i], self.layers[i+1]) for i in range(len(self.layers) - 1)]\n",
        "        self.biases = [np.random.randn(n) for n in self.layers[1:]]\n",
        "\n",
        "    def activation(self, x):\n",
        "        return 1 / (1 + np.exp(-x))\n",
        "\n",
        "    def activation_derivative(self, x):\n",
        "        return x * (1 - x)\n",
        "\n",
        "    def forward(self, x):\n",
        "        self.activations = [x]\n",
        "        self.z_values = []\n",
        "\n",
        "        for w, b in zip(self.weights, self.biases):\n",
        "            z = np.dot(self.activations[-1], w) + b\n",
        "            self.z_values.append(z)\n",
        "            self.activations.append(self.activation(z))\n",
        "\n",
        "        return self.activations[-1]\n",
        "\n",
        "    def backward(self, y_true):\n",
        "        errors = [y_true - self.activations[-1]]\n",
        "        deltas = [errors[-1] * self.activation_derivative(self.activations[-1])]\n",
        "\n",
        "        for i in range(len(self.weights) - 1, 0, -1):\n",
        "            error = deltas[-1] @ self.weights[i].T\n",
        "            delta = error * self.activation_derivative(self.activations[i])\n",
        "            deltas.append(delta)\n",
        "\n",
        "        deltas.reverse()\n",
        "\n",
        "        for i in range(len(self.weights)):\n",
        "            self.weights[i] += self.learning_rate * np.outer(self.activations[i], deltas[i])\n",
        "            self.biases[i] += self.learning_rate * deltas[i]\n",
        "\n",
        "    def train(self, df, target_column, epochs=1000):\n",
        "        X = df.drop(columns=[target_column]).values\n",
        "        y = df[[target_column]].values\n",
        "\n",
        "        for _ in range(epochs):\n",
        "            for x_sample, y_sample in zip(X, y):\n",
        "                self.forward(x_sample)\n",
        "                self.backward(y_sample)\n",
        "\n",
        "    def predict(self, df):\n",
        "        X = df.values\n",
        "        return np.array([self.forward(x) for x in X])"
      ],
      "metadata": {
        "id": "KcE5_2inVjsP"
      },
      "execution_count": 10,
      "outputs": []
    },
    {
      "cell_type": "code",
      "source": [
        "data = {\n",
        "    'feature1': [0.5, 0.2, 0.9, 0.3],\n",
        "    'feature2': [0.8, 0.4, 0.1, 0.7],\n",
        "    'target': [1, 0, 1, 0]\n",
        "}\n",
        "df = pd.DataFrame(data)\n",
        "\n",
        "network = SimpleNeuralNetwork(input_size=2, hidden_layers=[4, 3], output_size=1)\n",
        "network.train(df, target_column='target', epochs=5000)\n",
        "\n",
        "predictions = network.predict(df.drop(columns=['target']))\n",
        "print(\"Предсказания:\")\n",
        "print(predictions)"
      ],
      "metadata": {
        "colab": {
          "base_uri": "https://localhost:8080/"
        },
        "id": "1P3VV1m6Vn6A",
        "outputId": "06c4f9cd-ca66-4353-a89a-33513e89d1dd"
      },
      "execution_count": 11,
      "outputs": [
        {
          "output_type": "stream",
          "name": "stdout",
          "text": [
            "Предсказания:\n",
            "[[0.92142677]\n",
            " [0.01234871]\n",
            " [0.98388158]\n",
            " [0.06876396]]\n"
          ]
        }
      ]
    }
  ]
}